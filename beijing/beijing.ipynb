{
  "cells": [
    {
      "cell_type": "code",
      "execution_count": 1,
      "metadata": {
        "colab": {
          "base_uri": "https://localhost:8080/"
        },
        "id": "MOraN7jHb6Dv",
        "outputId": "cd2b85a4-959b-4f30-e1d9-8971b7fca1bd"
      },
      "outputs": [
        {
          "name": "stdout",
          "output_type": "stream",
          "text": [
            "Archive:  PRSA2017_Data_20130301-20170228.zip\n",
            "replace PRSA_Data_20130301-20170228/PRSA_Data_Aotizhongxin_20130301-20170228.csv? [y]es, [n]o, [A]ll, [N]one, [r]ename: /content/PRSA_Data_20130301-20170228\n"
          ]
        }
      ],
      "source": [
        "!unzip PRSA2017_Data_20130301-20170228.zip\n",
        "%cd \"/content/PRSA_Data_20130301-20170228\""
      ]
    },
    {
      "cell_type": "code",
      "execution_count": 2,
      "metadata": {
        "colab": {
          "base_uri": "https://localhost:8080/"
        },
        "id": "DiZ7DwnDcT80",
        "outputId": "56de767d-8f6f-47a8-9fb8-5aa729501781"
      },
      "outputs": [
        {
          "name": "stdout",
          "output_type": "stream",
          "text": [
            "PRSA_Data_Nongzhanguan_20130301-20170228.csv\n"
          ]
        }
      ],
      "source": [
        "import os\n",
        "import random\n",
        "files = os.listdir()\n",
        "final_path = random.choice(files)\n",
        "print(final_path)"
      ]
    },
    {
      "cell_type": "code",
      "execution_count": 3,
      "metadata": {
        "id": "3GRA6ZkVcU8Y"
      },
      "outputs": [],
      "source": [
        "import pandas as pd\n",
        "import numpy as np\n",
        "from matplotlib import pyplot as plt\n",
        "import seaborn as sns"
      ]
    },
    {
      "cell_type": "code",
      "execution_count": 4,
      "metadata": {
        "id": "4E718HLFcjUG"
      },
      "outputs": [],
      "source": [
        "air = pd.read_csv(final_path)"
      ]
    },
    {
      "cell_type": "code",
      "execution_count": 5,
      "metadata": {
        "colab": {
          "base_uri": "https://localhost:8080/",
          "height": 206
        },
        "id": "1iP6AuBKcnMg",
        "outputId": "0868fc93-359d-4be0-a845-6a7655d234f5"
      },
      "outputs": [
        {
          "data": {
            "text/html": [
              "\n",
              "  <div id=\"df-e850e494-3b17-4740-a557-efdbebe11f90\">\n",
              "    <div class=\"colab-df-container\">\n",
              "      <div>\n",
              "<style scoped>\n",
              "    .dataframe tbody tr th:only-of-type {\n",
              "        vertical-align: middle;\n",
              "    }\n",
              "\n",
              "    .dataframe tbody tr th {\n",
              "        vertical-align: top;\n",
              "    }\n",
              "\n",
              "    .dataframe thead th {\n",
              "        text-align: right;\n",
              "    }\n",
              "</style>\n",
              "<table border=\"1\" class=\"dataframe\">\n",
              "  <thead>\n",
              "    <tr style=\"text-align: right;\">\n",
              "      <th></th>\n",
              "      <th>No</th>\n",
              "      <th>year</th>\n",
              "      <th>month</th>\n",
              "      <th>day</th>\n",
              "      <th>hour</th>\n",
              "      <th>PM2.5</th>\n",
              "      <th>PM10</th>\n",
              "      <th>SO2</th>\n",
              "      <th>NO2</th>\n",
              "      <th>CO</th>\n",
              "      <th>O3</th>\n",
              "      <th>TEMP</th>\n",
              "      <th>PRES</th>\n",
              "      <th>DEWP</th>\n",
              "      <th>RAIN</th>\n",
              "      <th>wd</th>\n",
              "      <th>WSPM</th>\n",
              "      <th>station</th>\n",
              "    </tr>\n",
              "  </thead>\n",
              "  <tbody>\n",
              "    <tr>\n",
              "      <th>0</th>\n",
              "      <td>1</td>\n",
              "      <td>2013</td>\n",
              "      <td>3</td>\n",
              "      <td>1</td>\n",
              "      <td>0</td>\n",
              "      <td>5.0</td>\n",
              "      <td>14.0</td>\n",
              "      <td>4.0</td>\n",
              "      <td>12.0</td>\n",
              "      <td>200.0</td>\n",
              "      <td>85.0</td>\n",
              "      <td>-0.5</td>\n",
              "      <td>1024.5</td>\n",
              "      <td>-21.4</td>\n",
              "      <td>0.0</td>\n",
              "      <td>NNW</td>\n",
              "      <td>5.7</td>\n",
              "      <td>Nongzhanguan</td>\n",
              "    </tr>\n",
              "    <tr>\n",
              "      <th>1</th>\n",
              "      <td>2</td>\n",
              "      <td>2013</td>\n",
              "      <td>3</td>\n",
              "      <td>1</td>\n",
              "      <td>1</td>\n",
              "      <td>8.0</td>\n",
              "      <td>12.0</td>\n",
              "      <td>6.0</td>\n",
              "      <td>14.0</td>\n",
              "      <td>200.0</td>\n",
              "      <td>84.0</td>\n",
              "      <td>-0.7</td>\n",
              "      <td>1025.1</td>\n",
              "      <td>-22.1</td>\n",
              "      <td>0.0</td>\n",
              "      <td>NW</td>\n",
              "      <td>3.9</td>\n",
              "      <td>Nongzhanguan</td>\n",
              "    </tr>\n",
              "    <tr>\n",
              "      <th>2</th>\n",
              "      <td>3</td>\n",
              "      <td>2013</td>\n",
              "      <td>3</td>\n",
              "      <td>1</td>\n",
              "      <td>2</td>\n",
              "      <td>3.0</td>\n",
              "      <td>6.0</td>\n",
              "      <td>5.0</td>\n",
              "      <td>14.0</td>\n",
              "      <td>200.0</td>\n",
              "      <td>83.0</td>\n",
              "      <td>-1.2</td>\n",
              "      <td>1025.3</td>\n",
              "      <td>-24.6</td>\n",
              "      <td>0.0</td>\n",
              "      <td>NNW</td>\n",
              "      <td>5.3</td>\n",
              "      <td>Nongzhanguan</td>\n",
              "    </tr>\n",
              "    <tr>\n",
              "      <th>3</th>\n",
              "      <td>4</td>\n",
              "      <td>2013</td>\n",
              "      <td>3</td>\n",
              "      <td>1</td>\n",
              "      <td>3</td>\n",
              "      <td>5.0</td>\n",
              "      <td>5.0</td>\n",
              "      <td>5.0</td>\n",
              "      <td>14.0</td>\n",
              "      <td>200.0</td>\n",
              "      <td>84.0</td>\n",
              "      <td>-1.4</td>\n",
              "      <td>1026.2</td>\n",
              "      <td>-25.5</td>\n",
              "      <td>0.0</td>\n",
              "      <td>N</td>\n",
              "      <td>4.9</td>\n",
              "      <td>Nongzhanguan</td>\n",
              "    </tr>\n",
              "    <tr>\n",
              "      <th>4</th>\n",
              "      <td>5</td>\n",
              "      <td>2013</td>\n",
              "      <td>3</td>\n",
              "      <td>1</td>\n",
              "      <td>4</td>\n",
              "      <td>5.0</td>\n",
              "      <td>5.0</td>\n",
              "      <td>6.0</td>\n",
              "      <td>21.0</td>\n",
              "      <td>200.0</td>\n",
              "      <td>77.0</td>\n",
              "      <td>-1.9</td>\n",
              "      <td>1027.1</td>\n",
              "      <td>-24.5</td>\n",
              "      <td>0.0</td>\n",
              "      <td>NNW</td>\n",
              "      <td>3.2</td>\n",
              "      <td>Nongzhanguan</td>\n",
              "    </tr>\n",
              "  </tbody>\n",
              "</table>\n",
              "</div>\n",
              "      <button class=\"colab-df-convert\" onclick=\"convertToInteractive('df-e850e494-3b17-4740-a557-efdbebe11f90')\"\n",
              "              title=\"Convert this dataframe to an interactive table.\"\n",
              "              style=\"display:none;\">\n",
              "        \n",
              "  <svg xmlns=\"http://www.w3.org/2000/svg\" height=\"24px\"viewBox=\"0 0 24 24\"\n",
              "       width=\"24px\">\n",
              "    <path d=\"M0 0h24v24H0V0z\" fill=\"none\"/>\n",
              "    <path d=\"M18.56 5.44l.94 2.06.94-2.06 2.06-.94-2.06-.94-.94-2.06-.94 2.06-2.06.94zm-11 1L8.5 8.5l.94-2.06 2.06-.94-2.06-.94L8.5 2.5l-.94 2.06-2.06.94zm10 10l.94 2.06.94-2.06 2.06-.94-2.06-.94-.94-2.06-.94 2.06-2.06.94z\"/><path d=\"M17.41 7.96l-1.37-1.37c-.4-.4-.92-.59-1.43-.59-.52 0-1.04.2-1.43.59L10.3 9.45l-7.72 7.72c-.78.78-.78 2.05 0 2.83L4 21.41c.39.39.9.59 1.41.59.51 0 1.02-.2 1.41-.59l7.78-7.78 2.81-2.81c.8-.78.8-2.07 0-2.86zM5.41 20L4 18.59l7.72-7.72 1.47 1.35L5.41 20z\"/>\n",
              "  </svg>\n",
              "      </button>\n",
              "      \n",
              "  <style>\n",
              "    .colab-df-container {\n",
              "      display:flex;\n",
              "      flex-wrap:wrap;\n",
              "      gap: 12px;\n",
              "    }\n",
              "\n",
              "    .colab-df-convert {\n",
              "      background-color: #E8F0FE;\n",
              "      border: none;\n",
              "      border-radius: 50%;\n",
              "      cursor: pointer;\n",
              "      display: none;\n",
              "      fill: #1967D2;\n",
              "      height: 32px;\n",
              "      padding: 0 0 0 0;\n",
              "      width: 32px;\n",
              "    }\n",
              "\n",
              "    .colab-df-convert:hover {\n",
              "      background-color: #E2EBFA;\n",
              "      box-shadow: 0px 1px 2px rgba(60, 64, 67, 0.3), 0px 1px 3px 1px rgba(60, 64, 67, 0.15);\n",
              "      fill: #174EA6;\n",
              "    }\n",
              "\n",
              "    [theme=dark] .colab-df-convert {\n",
              "      background-color: #3B4455;\n",
              "      fill: #D2E3FC;\n",
              "    }\n",
              "\n",
              "    [theme=dark] .colab-df-convert:hover {\n",
              "      background-color: #434B5C;\n",
              "      box-shadow: 0px 1px 3px 1px rgba(0, 0, 0, 0.15);\n",
              "      filter: drop-shadow(0px 1px 2px rgba(0, 0, 0, 0.3));\n",
              "      fill: #FFFFFF;\n",
              "    }\n",
              "  </style>\n",
              "\n",
              "      <script>\n",
              "        const buttonEl =\n",
              "          document.querySelector('#df-e850e494-3b17-4740-a557-efdbebe11f90 button.colab-df-convert');\n",
              "        buttonEl.style.display =\n",
              "          google.colab.kernel.accessAllowed ? 'block' : 'none';\n",
              "\n",
              "        async function convertToInteractive(key) {\n",
              "          const element = document.querySelector('#df-e850e494-3b17-4740-a557-efdbebe11f90');\n",
              "          const dataTable =\n",
              "            await google.colab.kernel.invokeFunction('convertToInteractive',\n",
              "                                                     [key], {});\n",
              "          if (!dataTable) return;\n",
              "\n",
              "          const docLinkHtml = 'Like what you see? Visit the ' +\n",
              "            '<a target=\"_blank\" href=https://colab.research.google.com/notebooks/data_table.ipynb>data table notebook</a>'\n",
              "            + ' to learn more about interactive tables.';\n",
              "          element.innerHTML = '';\n",
              "          dataTable['output_type'] = 'display_data';\n",
              "          await google.colab.output.renderOutput(dataTable, element);\n",
              "          const docLink = document.createElement('div');\n",
              "          docLink.innerHTML = docLinkHtml;\n",
              "          element.appendChild(docLink);\n",
              "        }\n",
              "      </script>\n",
              "    </div>\n",
              "  </div>\n",
              "  "
            ],
            "text/plain": [
              "   No  year  month  day  hour  PM2.5  PM10  SO2   NO2     CO    O3  TEMP  \\\n",
              "0   1  2013      3    1     0    5.0  14.0  4.0  12.0  200.0  85.0  -0.5   \n",
              "1   2  2013      3    1     1    8.0  12.0  6.0  14.0  200.0  84.0  -0.7   \n",
              "2   3  2013      3    1     2    3.0   6.0  5.0  14.0  200.0  83.0  -1.2   \n",
              "3   4  2013      3    1     3    5.0   5.0  5.0  14.0  200.0  84.0  -1.4   \n",
              "4   5  2013      3    1     4    5.0   5.0  6.0  21.0  200.0  77.0  -1.9   \n",
              "\n",
              "     PRES  DEWP  RAIN   wd  WSPM       station  \n",
              "0  1024.5 -21.4   0.0  NNW   5.7  Nongzhanguan  \n",
              "1  1025.1 -22.1   0.0   NW   3.9  Nongzhanguan  \n",
              "2  1025.3 -24.6   0.0  NNW   5.3  Nongzhanguan  \n",
              "3  1026.2 -25.5   0.0    N   4.9  Nongzhanguan  \n",
              "4  1027.1 -24.5   0.0  NNW   3.2  Nongzhanguan  "
            ]
          },
          "execution_count": 5,
          "metadata": {},
          "output_type": "execute_result"
        }
      ],
      "source": [
        "air.head()"
      ]
    },
    {
      "cell_type": "code",
      "execution_count": 6,
      "metadata": {
        "colab": {
          "base_uri": "https://localhost:8080/"
        },
        "id": "PdaV9KPycn8A",
        "outputId": "961fb0e9-e053-4408-94ed-94d06a8495cb"
      },
      "outputs": [
        {
          "data": {
            "text/plain": [
              "PM2.5     628\n",
              "PM10      440\n",
              "SO2       446\n",
              "NO2       692\n",
              "CO       1206\n",
              "O3        506\n",
              "TEMP       20\n",
              "PRES       20\n",
              "DEWP       20\n",
              "RAIN       20\n",
              "wd         78\n",
              "WSPM       14\n",
              "dtype: int64"
            ]
          },
          "execution_count": 6,
          "metadata": {},
          "output_type": "execute_result"
        }
      ],
      "source": [
        "count = air.isna().sum()\n",
        "count[count > 0]"
      ]
    },
    {
      "cell_type": "code",
      "execution_count": 7,
      "metadata": {
        "colab": {
          "base_uri": "https://localhost:8080/",
          "height": 309
        },
        "id": "yPU7SOCBcq0t",
        "outputId": "7d39d569-ebfc-4ed4-e35c-57204bd2ed0a"
      },
      "outputs": [
        {
          "data": {
            "text/plain": [
              "<matplotlib.axes._subplots.AxesSubplot at 0x7f66d82ac590>"
            ]
          },
          "execution_count": 7,
          "metadata": {},
          "output_type": "execute_result"
        },
        {
          "data": {
            "image/png": "[encoded data removed]",
            "text/plain": [
              "<Figure size 432x288 with 2 Axes>"
            ]
          },
          "metadata": {
            "needs_background": "light"
          },
          "output_type": "display_data"
        }
      ],
      "source": [
        "sns.heatmap(air.corr(), cmap = 'Blues')"
      ]
    },
    {
      "cell_type": "code",
      "execution_count": 8,
      "metadata": {
        "colab": {
          "base_uri": "https://localhost:8080/",
          "height": 875
        },
        "id": "hvErXMWNcscJ",
        "outputId": "f7d16630-811c-4f65-d82b-271144c2a637"
      },
      "outputs": [
        {
          "data": {
            "text/html": [
              "\n",
              "  <div id=\"df-be9c4c40-f277-4ab4-9ecc-719d71d05e3d\">\n",
              "    <div class=\"colab-df-container\">\n",
              "      <div>\n",
              "<style scoped>\n",
              "    .dataframe tbody tr th:only-of-type {\n",
              "        vertical-align: middle;\n",
              "    }\n",
              "\n",
              "    .dataframe tbody tr th {\n",
              "        vertical-align: top;\n",
              "    }\n",
              "\n",
              "    .dataframe thead th {\n",
              "        text-align: right;\n",
              "    }\n",
              "</style>\n",
              "<table border=\"1\" class=\"dataframe\">\n",
              "  <thead>\n",
              "    <tr style=\"text-align: right;\">\n",
              "      <th></th>\n",
              "      <th>No</th>\n",
              "      <th>year</th>\n",
              "      <th>month</th>\n",
              "      <th>day</th>\n",
              "      <th>hour</th>\n",
              "      <th>PM2.5</th>\n",
              "      <th>PM10</th>\n",
              "      <th>SO2</th>\n",
              "      <th>NO2</th>\n",
              "      <th>CO</th>\n",
              "      <th>O3</th>\n",
              "      <th>TEMP</th>\n",
              "      <th>PRES</th>\n",
              "      <th>DEWP</th>\n",
              "      <th>RAIN</th>\n",
              "      <th>WSPM</th>\n",
              "    </tr>\n",
              "  </thead>\n",
              "  <tbody>\n",
              "    <tr>\n",
              "      <th>No</th>\n",
              "      <td>1.000000</td>\n",
              "      <td>9.695331e-01</td>\n",
              "      <td>4.318051e-02</td>\n",
              "      <td>1.776442e-02</td>\n",
              "      <td>6.838683e-04</td>\n",
              "      <td>-0.011380</td>\n",
              "      <td>-0.035343</td>\n",
              "      <td>-0.231077</td>\n",
              "      <td>-0.055963</td>\n",
              "      <td>0.023122</td>\n",
              "      <td>-0.035281</td>\n",
              "      <td>-0.119090</td>\n",
              "      <td>0.172940</td>\n",
              "      <td>-0.088871</td>\n",
              "      <td>0.008396</td>\n",
              "      <td>-0.003583</td>\n",
              "    </tr>\n",
              "    <tr>\n",
              "      <th>year</th>\n",
              "      <td>0.969533</td>\n",
              "      <td>1.000000e+00</td>\n",
              "      <td>-2.020099e-01</td>\n",
              "      <td>-5.569082e-03</td>\n",
              "      <td>1.164482e-15</td>\n",
              "      <td>-0.019700</td>\n",
              "      <td>-0.036074</td>\n",
              "      <td>-0.175296</td>\n",
              "      <td>-0.070957</td>\n",
              "      <td>0.004963</td>\n",
              "      <td>-0.009769</td>\n",
              "      <td>-0.148878</td>\n",
              "      <td>0.173713</td>\n",
              "      <td>-0.151824</td>\n",
              "      <td>0.004372</td>\n",
              "      <td>0.027663</td>\n",
              "    </tr>\n",
              "    <tr>\n",
              "      <th>month</th>\n",
              "      <td>0.043181</td>\n",
              "      <td>-2.020099e-01</td>\n",
              "      <td>1.000000e+00</td>\n",
              "      <td>1.052232e-02</td>\n",
              "      <td>4.724770e-16</td>\n",
              "      <td>0.034271</td>\n",
              "      <td>0.003641</td>\n",
              "      <td>-0.211260</td>\n",
              "      <td>0.063897</td>\n",
              "      <td>0.072709</td>\n",
              "      <td>-0.101026</td>\n",
              "      <td>0.132572</td>\n",
              "      <td>-0.021172</td>\n",
              "      <td>0.265387</td>\n",
              "      <td>0.016551</td>\n",
              "      <td>-0.126916</td>\n",
              "    </tr>\n",
              "    <tr>\n",
              "      <th>day</th>\n",
              "      <td>0.017764</td>\n",
              "      <td>-5.569082e-03</td>\n",
              "      <td>1.052232e-02</td>\n",
              "      <td>1.000000e+00</td>\n",
              "      <td>-4.489555e-17</td>\n",
              "      <td>0.003978</td>\n",
              "      <td>0.024181</td>\n",
              "      <td>-0.001390</td>\n",
              "      <td>0.024152</td>\n",
              "      <td>-0.011425</td>\n",
              "      <td>0.003541</td>\n",
              "      <td>0.015850</td>\n",
              "      <td>0.018167</td>\n",
              "      <td>0.020019</td>\n",
              "      <td>-0.006632</td>\n",
              "      <td>-0.009686</td>\n",
              "    </tr>\n",
              "    <tr>\n",
              "      <th>hour</th>\n",
              "      <td>0.000684</td>\n",
              "      <td>1.164482e-15</td>\n",
              "      <td>4.724770e-16</td>\n",
              "      <td>-4.489555e-17</td>\n",
              "      <td>1.000000e+00</td>\n",
              "      <td>-0.019872</td>\n",
              "      <td>0.005809</td>\n",
              "      <td>-0.000237</td>\n",
              "      <td>-0.065499</td>\n",
              "      <td>-0.070747</td>\n",
              "      <td>0.301859</td>\n",
              "      <td>0.142116</td>\n",
              "      <td>-0.039081</td>\n",
              "      <td>-0.019910</td>\n",
              "      <td>0.005099</td>\n",
              "      <td>0.156612</td>\n",
              "    </tr>\n",
              "    <tr>\n",
              "      <th>PM2.5</th>\n",
              "      <td>-0.011380</td>\n",
              "      <td>-1.969967e-02</td>\n",
              "      <td>3.427058e-02</td>\n",
              "      <td>3.978117e-03</td>\n",
              "      <td>-1.987214e-02</td>\n",
              "      <td>1.000000</td>\n",
              "      <td>0.904115</td>\n",
              "      <td>0.533271</td>\n",
              "      <td>0.689565</td>\n",
              "      <td>0.813926</td>\n",
              "      <td>-0.188672</td>\n",
              "      <td>-0.173368</td>\n",
              "      <td>0.028297</td>\n",
              "      <td>0.097902</td>\n",
              "      <td>-0.022391</td>\n",
              "      <td>-0.301012</td>\n",
              "    </tr>\n",
              "    <tr>\n",
              "      <th>PM10</th>\n",
              "      <td>-0.035343</td>\n",
              "      <td>-3.607449e-02</td>\n",
              "      <td>3.641265e-03</td>\n",
              "      <td>2.418074e-02</td>\n",
              "      <td>5.808514e-03</td>\n",
              "      <td>0.904115</td>\n",
              "      <td>1.000000</td>\n",
              "      <td>0.521346</td>\n",
              "      <td>0.676272</td>\n",
              "      <td>0.740188</td>\n",
              "      <td>-0.161575</td>\n",
              "      <td>-0.145583</td>\n",
              "      <td>-0.002099</td>\n",
              "      <td>0.050900</td>\n",
              "      <td>-0.033077</td>\n",
              "      <td>-0.204952</td>\n",
              "    </tr>\n",
              "    <tr>\n",
              "      <th>SO2</th>\n",
              "      <td>-0.231077</td>\n",
              "      <td>-1.752963e-01</td>\n",
              "      <td>-2.112595e-01</td>\n",
              "      <td>-1.389834e-03</td>\n",
              "      <td>-2.368437e-04</td>\n",
              "      <td>0.533271</td>\n",
              "      <td>0.521346</td>\n",
              "      <td>1.000000</td>\n",
              "      <td>0.498376</td>\n",
              "      <td>0.568786</td>\n",
              "      <td>-0.190739</td>\n",
              "      <td>-0.359613</td>\n",
              "      <td>0.232694</td>\n",
              "      <td>-0.266988</td>\n",
              "      <td>-0.045475</td>\n",
              "      <td>-0.153507</td>\n",
              "    </tr>\n",
              "    <tr>\n",
              "      <th>NO2</th>\n",
              "      <td>-0.055963</td>\n",
              "      <td>-7.095723e-02</td>\n",
              "      <td>6.389704e-02</td>\n",
              "      <td>2.415205e-02</td>\n",
              "      <td>-6.549870e-02</td>\n",
              "      <td>0.689565</td>\n",
              "      <td>0.676272</td>\n",
              "      <td>0.498376</td>\n",
              "      <td>1.000000</td>\n",
              "      <td>0.703330</td>\n",
              "      <td>-0.524125</td>\n",
              "      <td>-0.302752</td>\n",
              "      <td>0.129550</td>\n",
              "      <td>-0.019336</td>\n",
              "      <td>-0.052428</td>\n",
              "      <td>-0.469336</td>\n",
              "    </tr>\n",
              "    <tr>\n",
              "      <th>CO</th>\n",
              "      <td>0.023122</td>\n",
              "      <td>4.962712e-03</td>\n",
              "      <td>7.270912e-02</td>\n",
              "      <td>-1.142487e-02</td>\n",
              "      <td>-7.074740e-02</td>\n",
              "      <td>0.813926</td>\n",
              "      <td>0.740188</td>\n",
              "      <td>0.568786</td>\n",
              "      <td>0.703330</td>\n",
              "      <td>1.000000</td>\n",
              "      <td>-0.315599</td>\n",
              "      <td>-0.320972</td>\n",
              "      <td>0.151486</td>\n",
              "      <td>-0.019061</td>\n",
              "      <td>-0.013431</td>\n",
              "      <td>-0.340995</td>\n",
              "    </tr>\n",
              "    <tr>\n",
              "      <th>O3</th>\n",
              "      <td>-0.035281</td>\n",
              "      <td>-9.769020e-03</td>\n",
              "      <td>-1.010262e-01</td>\n",
              "      <td>3.541380e-03</td>\n",
              "      <td>3.018589e-01</td>\n",
              "      <td>-0.188672</td>\n",
              "      <td>-0.161575</td>\n",
              "      <td>-0.190739</td>\n",
              "      <td>-0.524125</td>\n",
              "      <td>-0.315599</td>\n",
              "      <td>1.000000</td>\n",
              "      <td>0.608806</td>\n",
              "      <td>-0.457703</td>\n",
              "      <td>0.314882</td>\n",
              "      <td>0.024120</td>\n",
              "      <td>0.312913</td>\n",
              "    </tr>\n",
              "    <tr>\n",
              "      <th>TEMP</th>\n",
              "      <td>-0.119090</td>\n",
              "      <td>-1.488781e-01</td>\n",
              "      <td>1.325716e-01</td>\n",
              "      <td>1.585024e-02</td>\n",
              "      <td>1.421163e-01</td>\n",
              "      <td>-0.173368</td>\n",
              "      <td>-0.145583</td>\n",
              "      <td>-0.359613</td>\n",
              "      <td>-0.302752</td>\n",
              "      <td>-0.320972</td>\n",
              "      <td>0.608806</td>\n",
              "      <td>1.000000</td>\n",
              "      <td>-0.837480</td>\n",
              "      <td>0.819070</td>\n",
              "      <td>0.038660</td>\n",
              "      <td>0.048835</td>\n",
              "    </tr>\n",
              "    <tr>\n",
              "      <th>PRES</th>\n",
              "      <td>0.172940</td>\n",
              "      <td>1.737132e-01</td>\n",
              "      <td>-2.117155e-02</td>\n",
              "      <td>1.816690e-02</td>\n",
              "      <td>-3.908139e-02</td>\n",
              "      <td>0.028297</td>\n",
              "      <td>-0.002099</td>\n",
              "      <td>0.232694</td>\n",
              "      <td>0.129550</td>\n",
              "      <td>0.151486</td>\n",
              "      <td>-0.457703</td>\n",
              "      <td>-0.837480</td>\n",
              "      <td>1.000000</td>\n",
              "      <td>-0.770305</td>\n",
              "      <td>-0.065779</td>\n",
              "      <td>0.038498</td>\n",
              "    </tr>\n",
              "    <tr>\n",
              "      <th>DEWP</th>\n",
              "      <td>-0.088871</td>\n",
              "      <td>-1.518237e-01</td>\n",
              "      <td>2.653872e-01</td>\n",
              "      <td>2.001910e-02</td>\n",
              "      <td>-1.990976e-02</td>\n",
              "      <td>0.097902</td>\n",
              "      <td>0.050900</td>\n",
              "      <td>-0.266988</td>\n",
              "      <td>-0.019336</td>\n",
              "      <td>-0.019061</td>\n",
              "      <td>0.314882</td>\n",
              "      <td>0.819070</td>\n",
              "      <td>-0.770305</td>\n",
              "      <td>1.000000</td>\n",
              "      <td>0.089356</td>\n",
              "      <td>-0.278933</td>\n",
              "    </tr>\n",
              "    <tr>\n",
              "      <th>RAIN</th>\n",
              "      <td>0.008396</td>\n",
              "      <td>4.371655e-03</td>\n",
              "      <td>1.655073e-02</td>\n",
              "      <td>-6.631784e-03</td>\n",
              "      <td>5.099323e-03</td>\n",
              "      <td>-0.022391</td>\n",
              "      <td>-0.033077</td>\n",
              "      <td>-0.045475</td>\n",
              "      <td>-0.052428</td>\n",
              "      <td>-0.013431</td>\n",
              "      <td>0.024120</td>\n",
              "      <td>0.038660</td>\n",
              "      <td>-0.065779</td>\n",
              "      <td>0.089356</td>\n",
              "      <td>1.000000</td>\n",
              "      <td>0.025551</td>\n",
              "    </tr>\n",
              "    <tr>\n",
              "      <th>WSPM</th>\n",
              "      <td>-0.003583</td>\n",
              "      <td>2.766288e-02</td>\n",
              "      <td>-1.269160e-01</td>\n",
              "      <td>-9.686473e-03</td>\n",
              "      <td>1.566121e-01</td>\n",
              "      <td>-0.301012</td>\n",
              "      <td>-0.204952</td>\n",
              "      <td>-0.153507</td>\n",
              "      <td>-0.469336</td>\n",
              "      <td>-0.340995</td>\n",
              "      <td>0.312913</td>\n",
              "      <td>0.048835</td>\n",
              "      <td>0.038498</td>\n",
              "      <td>-0.278933</td>\n",
              "      <td>0.025551</td>\n",
              "      <td>1.000000</td>\n",
              "    </tr>\n",
              "  </tbody>\n",
              "</table>\n",
              "</div>\n",
              "      <button class=\"colab-df-convert\" onclick=\"convertToInteractive('df-be9c4c40-f277-4ab4-9ecc-719d71d05e3d')\"\n",
              "              title=\"Convert this dataframe to an interactive table.\"\n",
              "              style=\"display:none;\">\n",
              "        \n",
              "  <svg xmlns=\"http://www.w3.org/2000/svg\" height=\"24px\"viewBox=\"0 0 24 24\"\n",
              "       width=\"24px\">\n",
              "    <path d=\"M0 0h24v24H0V0z\" fill=\"none\"/>\n",
              "    <path d=\"M18.56 5.44l.94 2.06.94-2.06 2.06-.94-2.06-.94-.94-2.06-.94 2.06-2.06.94zm-11 1L8.5 8.5l.94-2.06 2.06-.94-2.06-.94L8.5 2.5l-.94 2.06-2.06.94zm10 10l.94 2.06.94-2.06 2.06-.94-2.06-.94-.94-2.06-.94 2.06-2.06.94z\"/><path d=\"M17.41 7.96l-1.37-1.37c-.4-.4-.92-.59-1.43-.59-.52 0-1.04.2-1.43.59L10.3 9.45l-7.72 7.72c-.78.78-.78 2.05 0 2.83L4 21.41c.39.39.9.59 1.41.59.51 0 1.02-.2 1.41-.59l7.78-7.78 2.81-2.81c.8-.78.8-2.07 0-2.86zM5.41 20L4 18.59l7.72-7.72 1.47 1.35L5.41 20z\"/>\n",
              "  </svg>\n",
              "      </button>\n",
              "      \n",
              "  <style>\n",
              "    .colab-df-container {\n",
              "      display:flex;\n",
              "      flex-wrap:wrap;\n",
              "      gap: 12px;\n",
              "    }\n",
              "\n",
              "    .colab-df-convert {\n",
              "      background-color: #E8F0FE;\n",
              "      border: none;\n",
              "      border-radius: 50%;\n",
              "      cursor: pointer;\n",
              "      display: none;\n",
              "      fill: #1967D2;\n",
              "      height: 32px;\n",
              "      padding: 0 0 0 0;\n",
              "      width: 32px;\n",
              "    }\n",
              "\n",
              "    .colab-df-convert:hover {\n",
              "      background-color: #E2EBFA;\n",
              "      box-shadow: 0px 1px 2px rgba(60, 64, 67, 0.3), 0px 1px 3px 1px rgba(60, 64, 67, 0.15);\n",
              "      fill: #174EA6;\n",
              "    }\n",
              "\n",
              "    [theme=dark] .colab-df-convert {\n",
              "      background-color: #3B4455;\n",
              "      fill: #D2E3FC;\n",
              "    }\n",
              "\n",
              "    [theme=dark] .colab-df-convert:hover {\n",
              "      background-color: #434B5C;\n",
              "      box-shadow: 0px 1px 3px 1px rgba(0, 0, 0, 0.15);\n",
              "      filter: drop-shadow(0px 1px 2px rgba(0, 0, 0, 0.3));\n",
              "      fill: #FFFFFF;\n",
              "    }\n",
              "  </style>\n",
              "\n",
              "      <script>\n",
              "        const buttonEl =\n",
              "          document.querySelector('#df-be9c4c40-f277-4ab4-9ecc-719d71d05e3d button.colab-df-convert');\n",
              "        buttonEl.style.display =\n",
              "          google.colab.kernel.accessAllowed ? 'block' : 'none';\n",
              "\n",
              "        async function convertToInteractive(key) {\n",
              "          const element = document.querySelector('#df-be9c4c40-f277-4ab4-9ecc-719d71d05e3d');\n",
              "          const dataTable =\n",
              "            await google.colab.kernel.invokeFunction('convertToInteractive',\n",
              "                                                     [key], {});\n",
              "          if (!dataTable) return;\n",
              "\n",
              "          const docLinkHtml = 'Like what you see? Visit the ' +\n",
              "            '<a target=\"_blank\" href=https://colab.research.google.com/notebooks/data_table.ipynb>data table notebook</a>'\n",
              "            + ' to learn more about interactive tables.';\n",
              "          element.innerHTML = '';\n",
              "          dataTable['output_type'] = 'display_data';\n",
              "          await google.colab.output.renderOutput(dataTable, element);\n",
              "          const docLink = document.createElement('div');\n",
              "          docLink.innerHTML = docLinkHtml;\n",
              "          element.appendChild(docLink);\n",
              "        }\n",
              "      </script>\n",
              "    </div>\n",
              "  </div>\n",
              "  "
            ],
            "text/plain": [
              "             No          year         month           day          hour  \\\n",
              "No     1.000000  9.695331e-01  4.318051e-02  1.776442e-02  6.838683e-04   \n",
              "year   0.969533  1.000000e+00 -2.020099e-01 -5.569082e-03  1.164482e-15   \n",
              "month  0.043181 -2.020099e-01  1.000000e+00  1.052232e-02  4.724770e-16   \n",
              "day    0.017764 -5.569082e-03  1.052232e-02  1.000000e+00 -4.489555e-17   \n",
              "hour   0.000684  1.164482e-15  4.724770e-16 -4.489555e-17  1.000000e+00   \n",
              "PM2.5 -0.011380 -1.969967e-02  3.427058e-02  3.978117e-03 -1.987214e-02   \n",
              "PM10  -0.035343 -3.607449e-02  3.641265e-03  2.418074e-02  5.808514e-03   \n",
              "SO2   -0.231077 -1.752963e-01 -2.112595e-01 -1.389834e-03 -2.368437e-04   \n",
              "NO2   -0.055963 -7.095723e-02  6.389704e-02  2.415205e-02 -6.549870e-02   \n",
              "CO     0.023122  4.962712e-03  7.270912e-02 -1.142487e-02 -7.074740e-02   \n",
              "O3    -0.035281 -9.769020e-03 -1.010262e-01  3.541380e-03  3.018589e-01   \n",
              "TEMP  -0.119090 -1.488781e-01  1.325716e-01  1.585024e-02  1.421163e-01   \n",
              "PRES   0.172940  1.737132e-01 -2.117155e-02  1.816690e-02 -3.908139e-02   \n",
              "DEWP  -0.088871 -1.518237e-01  2.653872e-01  2.001910e-02 -1.990976e-02   \n",
              "RAIN   0.008396  4.371655e-03  1.655073e-02 -6.631784e-03  5.099323e-03   \n",
              "WSPM  -0.003583  2.766288e-02 -1.269160e-01 -9.686473e-03  1.566121e-01   \n",
              "\n",
              "          PM2.5      PM10       SO2       NO2        CO        O3      TEMP  \\\n",
              "No    -0.011380 -0.035343 -0.231077 -0.055963  0.023122 -0.035281 -0.119090   \n",
              "year  -0.019700 -0.036074 -0.175296 -0.070957  0.004963 -0.009769 -0.148878   \n",
              "month  0.034271  0.003641 -0.211260  0.063897  0.072709 -0.101026  0.132572   \n",
              "day    0.003978  0.024181 -0.001390  0.024152 -0.011425  0.003541  0.015850   \n",
              "hour  -0.019872  0.005809 -0.000237 -0.065499 -0.070747  0.301859  0.142116   \n",
              "PM2.5  1.000000  0.904115  0.533271  0.689565  0.813926 -0.188672 -0.173368   \n",
              "PM10   0.904115  1.000000  0.521346  0.676272  0.740188 -0.161575 -0.145583   \n",
              "SO2    0.533271  0.521346  1.000000  0.498376  0.568786 -0.190739 -0.359613   \n",
              "NO2    0.689565  0.676272  0.498376  1.000000  0.703330 -0.524125 -0.302752   \n",
              "CO     0.813926  0.740188  0.568786  0.703330  1.000000 -0.315599 -0.320972   \n",
              "O3    -0.188672 -0.161575 -0.190739 -0.524125 -0.315599  1.000000  0.608806   \n",
              "TEMP  -0.173368 -0.145583 -0.359613 -0.302752 -0.320972  0.608806  1.000000   \n",
              "PRES   0.028297 -0.002099  0.232694  0.129550  0.151486 -0.457703 -0.837480   \n",
              "DEWP   0.097902  0.050900 -0.266988 -0.019336 -0.019061  0.314882  0.819070   \n",
              "RAIN  -0.022391 -0.033077 -0.045475 -0.052428 -0.013431  0.024120  0.038660   \n",
              "WSPM  -0.301012 -0.204952 -0.153507 -0.469336 -0.340995  0.312913  0.048835   \n",
              "\n",
              "           PRES      DEWP      RAIN      WSPM  \n",
              "No     0.172940 -0.088871  0.008396 -0.003583  \n",
              "year   0.173713 -0.151824  0.004372  0.027663  \n",
              "month -0.021172  0.265387  0.016551 -0.126916  \n",
              "day    0.018167  0.020019 -0.006632 -0.009686  \n",
              "hour  -0.039081 -0.019910  0.005099  0.156612  \n",
              "PM2.5  0.028297  0.097902 -0.022391 -0.301012  \n",
              "PM10  -0.002099  0.050900 -0.033077 -0.204952  \n",
              "SO2    0.232694 -0.266988 -0.045475 -0.153507  \n",
              "NO2    0.129550 -0.019336 -0.052428 -0.469336  \n",
              "CO     0.151486 -0.019061 -0.013431 -0.340995  \n",
              "O3    -0.457703  0.314882  0.024120  0.312913  \n",
              "TEMP  -0.837480  0.819070  0.038660  0.048835  \n",
              "PRES   1.000000 -0.770305 -0.065779  0.038498  \n",
              "DEWP  -0.770305  1.000000  0.089356 -0.278933  \n",
              "RAIN  -0.065779  0.089356  1.000000  0.025551  \n",
              "WSPM   0.038498 -0.278933  0.025551  1.000000  "
            ]
          },
          "execution_count": 8,
          "metadata": {},
          "output_type": "execute_result"
        }
      ],
      "source": [
        "air.corr()"
      ]
    },
    {
      "cell_type": "code",
      "execution_count": 9,
      "metadata": {
        "colab": {
          "base_uri": "https://localhost:8080/"
        },
        "id": "L7CyhP_zdpcj",
        "outputId": "a2a590c1-d02e-4d6a-8cff-66304928e442"
      },
      "outputs": [
        {
          "data": {
            "text/plain": [
              "27149"
            ]
          },
          "execution_count": 9,
          "metadata": {},
          "output_type": "execute_result"
        }
      ],
      "source": [
        "bools = np.array(air['PM10'] == air['PM2.5'])\n",
        "len(bools[bools == False])"
      ]
    },
    {
      "cell_type": "code",
      "execution_count": 10,
      "metadata": {
        "id": "AQtFGGQTeBX_"
      },
      "outputs": [],
      "source": [
        "air = air.drop(['NO2', 'O3', 'CO'], axis = 1)"
      ]
    },
    {
      "cell_type": "code",
      "execution_count": 11,
      "metadata": {
        "id": "BSi-S_-hnl_j"
      },
      "outputs": [],
      "source": [
        "air = air.dropna()"
      ]
    },
    {
      "cell_type": "code",
      "execution_count": 12,
      "metadata": {
        "colab": {
          "base_uri": "https://localhost:8080/"
        },
        "id": "TBj2YxyFnpOP",
        "outputId": "17c80bc3-9ace-484c-d513-d5385df543ba"
      },
      "outputs": [
        {
          "data": {
            "text/plain": [
              "No         0\n",
              "year       0\n",
              "month      0\n",
              "day        0\n",
              "hour       0\n",
              "PM2.5      0\n",
              "PM10       0\n",
              "SO2        0\n",
              "TEMP       0\n",
              "PRES       0\n",
              "DEWP       0\n",
              "RAIN       0\n",
              "wd         0\n",
              "WSPM       0\n",
              "station    0\n",
              "dtype: int64"
            ]
          },
          "execution_count": 12,
          "metadata": {},
          "output_type": "execute_result"
        }
      ],
      "source": [
        "air.isna().sum()"
      ]
    },
    {
      "cell_type": "code",
      "execution_count": 13,
      "metadata": {
        "colab": {
          "base_uri": "https://localhost:8080/"
        },
        "id": "YJX7uR0nnq3A",
        "outputId": "42ec1bb6-7c7e-44d5-88be-08d579523793"
      },
      "outputs": [
        {
          "data": {
            "text/plain": [
              "(34252, 15)"
            ]
          },
          "execution_count": 13,
          "metadata": {},
          "output_type": "execute_result"
        }
      ],
      "source": [
        "air.shape"
      ]
    },
    {
      "cell_type": "code",
      "execution_count": 14,
      "metadata": {
        "id": "N1bENgewnrXt"
      },
      "outputs": [],
      "source": [
        "from sklearn.model_selection import train_test_split\n",
        "X = air.drop(['PM2.5'], axis = 1)\n",
        "y = air['PM2.5']"
      ]
    },
    {
      "cell_type": "code",
      "execution_count": 15,
      "metadata": {
        "id": "pTdBbjnfoLhk"
      },
      "outputs": [],
      "source": [
        "X_train, y_train, X_test, y_test = train_test_split(X, y, test_size = 0.2, random_state = 101)"
      ]
    },
    {
      "cell_type": "code",
      "execution_count": 16,
      "metadata": {
        "id": "BFqZKQMaoaeG"
      },
      "outputs": [],
      "source": [
        "!pip install scikit-multiflow --quiet"
      ]
    },
    {
      "cell_type": "code",
      "execution_count": 17,
      "metadata": {
        "colab": {
          "base_uri": "https://localhost:8080/"
        },
        "id": "FPi47enWoiKo",
        "outputId": "ded39e4e-7c24-486a-e521-46f996134472"
      },
      "outputs": [
        {
          "name": "stdout",
          "output_type": "stream",
          "text": [
            "10000 samples analyzed.\n",
            "Hoeffding Tree regressor mean absolute error: 5.545911457093758\n"
          ]
        }
      ],
      "source": [
        "# Imports\n",
        "from skmultiflow.data import RegressionGenerator\n",
        "from skmultiflow.trees import HoeffdingTreeRegressor\n",
        "import numpy as np\n",
        "# Setup a data stream\n",
        "stream = RegressionGenerator(random_state=1, n_samples=10000)\n",
        "# Setup the Hoeffding Tree Regressor\n",
        "ht_reg = HoeffdingTreeRegressor()\n",
        "# Auxiliary variables to control loop and track performance\n",
        "n_samples = 0\n",
        "max_samples = 100000\n",
        "y_pred = np.zeros(max_samples)\n",
        "y_true = np.zeros(max_samples)\n",
        "# Run test-then-train loop for max_samples and while there is data\n",
        "while n_samples < max_samples and stream.has_more_samples():\n",
        "    X_train, y_train = stream.next_sample()\n",
        "    y_true[n_samples] = y[0]\n",
        "    y_pred[n_samples] = ht_reg.predict(X_train)[0]\n",
        "    ht_reg.partial_fit(X_train, y_train)\n",
        "    n_samples += 1\n",
        "# Display results\n",
        "print('{} samples analyzed.'.format(n_samples))\n",
        "print('Hoeffding Tree regressor mean absolute error: {}'.\n",
        "      format(np.mean(np.abs(y_true - y_pred))))\n"
      ]
    },
    {
      "cell_type": "code",
      "execution_count": 18,
      "metadata": {
        "colab": {
          "base_uri": "https://localhost:8080/"
        },
        "id": "mr2rZXkcpS0f",
        "outputId": "ac2c1304-f39f-4e7a-aafe-295413f6941e"
      },
      "outputs": [
        {
          "data": {
            "text/plain": [
              "<skmultiflow.trees.nodes.split_node.SplitNode at 0x7f66d4b3f310>"
            ]
          },
          "execution_count": 18,
          "metadata": {},
          "output_type": "execute_result"
        }
      ],
      "source": [
        "ht_reg.new_split_node(X_test, X_train)"
      ]
    },
    {
      "cell_type": "code",
      "execution_count": 19,
      "metadata": {
        "colab": {
          "base_uri": "https://localhost:8080/"
        },
        "id": "x0NOlQ8Gp7PH",
        "outputId": "d4ffc17a-2368-4074-8cc0-bd68484e720c"
      },
      "outputs": [
        {
          "data": {
            "text/plain": [
              "{'binary_split': False,\n",
              " 'grace_period': 200,\n",
              " 'leaf_prediction': 'perceptron',\n",
              " 'learning_ratio_const': True,\n",
              " 'learning_ratio_decay': 0.001,\n",
              " 'learning_ratio_perceptron': 0.02,\n",
              " 'max_byte_size': 33554432,\n",
              " 'memory_estimate_period': 1000000,\n",
              " 'nb_threshold': 0,\n",
              " 'no_preprune': False,\n",
              " 'nominal_attributes': None,\n",
              " 'random_state': None,\n",
              " 'remove_poor_atts': False,\n",
              " 'split_confidence': 1e-07,\n",
              " 'stop_mem_management': False,\n",
              " 'tie_threshold': 0.05}"
            ]
          },
          "execution_count": 19,
          "metadata": {},
          "output_type": "execute_result"
        }
      ],
      "source": [
        "ht_reg.get_params(deep = True)"
      ]
    },
    {
      "cell_type": "code",
      "execution_count": 20,
      "metadata": {
        "colab": {
          "base_uri": "https://localhost:8080/"
        },
        "id": "C0rQHMASqhqa",
        "outputId": "00168f38-c926-4221-afb1-3f29038e09dc"
      },
      "outputs": [
        {
          "data": {
            "text/plain": [
              "6"
            ]
          },
          "execution_count": 20,
          "metadata": {},
          "output_type": "execute_result"
        }
      ],
      "source": [
        "ht_reg.measure_tree_depth()"
      ]
    },
    {
      "cell_type": "code",
      "execution_count": 21,
      "metadata": {
        "colab": {
          "base_uri": "https://localhost:8080/"
        },
        "id": "DhWhDlSpqlE-",
        "outputId": "04f42e4e-8e95-45c5-c49b-18920920665c"
      },
      "outputs": [
        {
          "name": "stdout",
          "output_type": "stream",
          "text": [
            "if Attribute 33 <= -0.12201616357316761:\n",
            "  if Attribute 42 <= -1.3465633318470427:\n",
            "    Leaf = Statistics {0: 355.0000, 1: -87661.9377, 2: 27022418.5884}\n",
            "  if Attribute 42 > -1.3465633318470427:\n",
            "    if Attribute 42 <= -0.5554716493675651:\n",
            "      if Attribute 5 <= -0.7898185034106747:\n",
            "        Leaf = Statistics {0: 161.0000, 1: -44207.9198, 2: 14204387.1508}\n",
            "      if Attribute 5 > -0.7898185034106747:\n",
            "        if Attribute 33 <= -1.805516922646181:\n",
            "          Leaf = Statistics {0: 30.0000, 1: -7945.5292, 2: 2280678.6468}\n",
            "        if Attribute 33 > -1.805516922646181:\n",
            "          Leaf = Statistics {0: 583.0000, 1: -77152.0520, 2: 17516918.3311}\n",
            "    if Attribute 42 > -0.5554716493675651:\n",
            "      if Attribute 5 <= -0.21414182354084862:\n",
            "        if Attribute 42 <= 0.3002343835153617:\n",
            "          Leaf = Statistics {0: 376.0000, 1: -64090.3060, 2: 15557653.9568}\n",
            "        if Attribute 42 > 0.3002343835153617:\n",
            "          if Attribute 33 <= -1.919471865139141:\n",
            "            Leaf = Statistics {0: 14.0000, 1: -3213.7499, 2: 917093.9707}\n",
            "          if Attribute 33 > -1.919471865139141:\n",
            "            Leaf = Statistics {0: 614.0000, 1: -38776.3824, 2: 11693940.5736}\n",
            "      if Attribute 5 > -0.21414182354084862:\n",
            "        Leaf = Statistics {0: 2457.0000, 1: -40592.3561, 2: 54527599.9720}\n",
            "if Attribute 33 > -0.12201616357316761:\n",
            "  if Attribute 42 <= -0.471842620557707:\n",
            "    if Attribute 5 <= -0.73584585212081:\n",
            "      Leaf = Statistics {0: 350.0000, 1: -45129.3752, 2: 11404366.7272}\n",
            "    if Attribute 5 > -0.73584585212081:\n",
            "      if Attribute 44 <= -0.786781503202143:\n",
            "        Leaf = Statistics {0: 224.0000, 1: -18299.6647, 2: 4567768.1680}\n",
            "      if Attribute 44 > -0.786781503202143:\n",
            "        if Attribute 33 <= 0.4004569787946908:\n",
            "          Leaf = Statistics {0: 221.0000, 1: -10909.8180, 2: 3390514.3851}\n",
            "        if Attribute 33 > 0.4004569787946908:\n",
            "          if Attribute 91 <= 1.0600620243143195:\n",
            "            Leaf = Statistics {0: 233.0000, 1: 13168.1075, 2: 3945016.8862}\n",
            "          if Attribute 91 > 1.0600620243143195:\n",
            "            Leaf = Statistics {0: 523.0000, 1: 3422.1224, 2: 8096957.7686}\n",
            "  if Attribute 42 > -0.471842620557707:\n",
            "    if Attribute 5 <= -0.3252344846272188:\n",
            "      if Attribute 42 <= -0.17681894286620653:\n",
            "        Leaf = Statistics {0: 153.0000, 1: -4031.4962, 2: 2275184.7897}\n",
            "      if Attribute 42 > -0.17681894286620653:\n",
            "        if Attribute 42 <= 0.5379210694247393:\n",
            "          Leaf = Statistics {0: 321.0000, 1: 2810.8409, 2: 3686877.6085}\n",
            "        if Attribute 42 > 0.5379210694247393:\n",
            "          Leaf = Statistics {0: 673.0000, 1: 60361.7530, 2: 15387143.3101}\n",
            "    if Attribute 5 > -0.3252344846272188:\n",
            "      Leaf = Statistics {0: 2712.0000, 1: 392021.9879, 2: 108665974.8560}\n",
            "\n"
          ]
        }
      ],
      "source": [
        "print(ht_reg.get_model_description())"
      ]
    },
    {
      "cell_type": "code",
      "execution_count": 22,
      "metadata": {
        "colab": {
          "base_uri": "https://localhost:8080/"
        },
        "id": "zPYX1We-rrNO",
        "outputId": "523a7c3f-65bb-41e8-8c76-5f27957a5247"
      },
      "outputs": [
        {
          "data": {
            "text/plain": [
              "{'Active leaf byte size estimate': 0.0,\n",
              " 'Active learning nodes': 17,\n",
              " 'Byte size estimate overhead': 1.0,\n",
              " 'Inactive leaf byte size estimate': 0.0,\n",
              " 'Tree depth': 6,\n",
              " 'Tree size (leaves)': 17,\n",
              " 'Tree size (nodes)': 33}"
            ]
          },
          "execution_count": 22,
          "metadata": {},
          "output_type": "execute_result"
        }
      ],
      "source": [
        "ht_reg.get_model_measurements "
      ]
    },
    {
      "cell_type": "code",
      "execution_count": 22,
      "metadata": {
        "id": "RKWnTFqos6U-"
      },
      "outputs": [],
      "source": []
    }
  ],
  "metadata": {
    "colab": {
      "name": "beijing.ipynb",
      "provenance": []
    },
    "kernelspec": {
      "display_name": "Python 3.9.7 ('base')",
      "language": "python",
      "name": "python3"
    },
    "language_info": {
      "name": "python",
      "version": "3.9.7"
    },
    "vscode": {
      "interpreter": {
        "hash": "52d90d3cc821dd0beedd6e719dbdecc722c226b9d90ed1b663c34e1877f1142e"
      }
    }
  },
  "nbformat": 4,
  "nbformat_minor": 0
}
